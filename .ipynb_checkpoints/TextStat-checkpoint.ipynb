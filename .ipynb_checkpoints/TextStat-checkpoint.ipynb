{
 "cells": [
  {
   "cell_type": "code",
   "execution_count": 1,
   "metadata": {},
   "outputs": [
    {
     "name": "stdout",
     "output_type": "stream",
     "text": [
      "Requirement already satisfied: textstat in /Users/ujwala.nanavare/anaconda3/lib/python3.7/site-packages (0.6.0)\n",
      "Requirement already satisfied: pyphen in /Users/ujwala.nanavare/anaconda3/lib/python3.7/site-packages (from textstat) (0.9.5)\n",
      "Note: you may need to restart the kernel to use updated packages.\n"
     ]
    }
   ],
   "source": [
    "pip install textstat"
   ]
  },
  {
   "cell_type": "code",
   "execution_count": 2,
   "metadata": {},
   "outputs": [],
   "source": [
    "\n",
    "import textstat"
   ]
  },
  {
   "cell_type": "code",
   "execution_count": 3,
   "metadata": {},
   "outputs": [],
   "source": [
    "\n",
    "textstat.set_lang(\"en\")"
   ]
  },
  {
   "cell_type": "code",
   "execution_count": 6,
   "metadata": {},
   "outputs": [],
   "source": [
    "\n",
    "text = \"\"\"\n",
    "With the current global pandemic and its associated resources (data, analyses, etc.),\n",
    "I’ve been trying for some time to come up with an interesting COVID-19 problem to attack with statistics. \n",
    "After looking at the number of confirmed cases for some counties, it was clear that at some date, \n",
    "the number of new cases stopped being exponential and its distribution changed.\n",
    "However, this date was different for each country (obviously).\n",
    "This post introduces and discusses a Bayesian model for estimating the date that the distribution of new\n",
    "COVID-19 cases in a particular country changes. The model coefficients are interpretable and can be used \n",
    "for future analysis on the effectiveness of social distancing measures adopted by different countries.\n",
    "\"\"\""
   ]
  },
  {
   "cell_type": "code",
   "execution_count": null,
   "metadata": {},
   "outputs": [],
   "source": [
    "# Count Syllables\n",
    "textstat.syllable_count(text)"
   ]
  },
  {
   "cell_type": "code",
   "execution_count": 8,
   "metadata": {},
   "outputs": [
    {
     "data": {
      "text/plain": [
       "116"
      ]
     },
     "execution_count": 8,
     "metadata": {},
     "output_type": "execute_result"
    }
   ],
   "source": [
    "# Lexicon count\n",
    "textstat.lexicon_count(text, removepunct=True)"
   ]
  },
  {
   "cell_type": "code",
   "execution_count": 9,
   "metadata": {},
   "outputs": [
    {
     "data": {
      "text/plain": [
       "5"
      ]
     },
     "execution_count": 9,
     "metadata": {},
     "output_type": "execute_result"
    }
   ],
   "source": [
    "# Sentence count\n",
    "textstat.sentence_count(text)"
   ]
  },
  {
   "cell_type": "code",
   "execution_count": 10,
   "metadata": {},
   "outputs": [
    {
     "data": {
      "text/plain": [
       "39.47"
      ]
     },
     "execution_count": 10,
     "metadata": {},
     "output_type": "execute_result"
    }
   ],
   "source": [
    "# Score\tDifficulty\n",
    "# 90-100\tVery Easy\n",
    "# 80-89\tEasy\n",
    "# 70-79\tFairly Easy\n",
    "# 60-69\tStandard\n",
    "# 50-59\tFairly Difficult\n",
    "# 30-49\tDifficult\n",
    "# 0-29\tVery Confusing\n",
    "\n",
    "# Flesch Reading Ease formula\n",
    "textstat.flesch_reading_ease(text)"
   ]
  },
  {
   "cell_type": "markdown",
   "metadata": {},
   "source": [
    "The Flesch_Reading_ease score of 39.47 tells this Pargraph reading level is difficult.\n"
   ]
  },
  {
   "cell_type": "code",
   "execution_count": 12,
   "metadata": {},
   "outputs": [
    {
     "data": {
      "text/plain": [
       "13.5"
      ]
     },
     "execution_count": 12,
     "metadata": {},
     "output_type": "execute_result"
    }
   ],
   "source": [
    "textstat.flesch_kincaid_grade(text)"
   ]
  },
  {
   "cell_type": "markdown",
   "metadata": {},
   "source": [
    "the Score 13.5 means the text can be read by 13th grader which is freshman year students. \n"
   ]
  },
  {
   "cell_type": "code",
   "execution_count": null,
   "metadata": {},
   "outputs": [],
   "source": []
  }
 ],
 "metadata": {
  "kernelspec": {
   "display_name": "Python 3",
   "language": "python",
   "name": "python3"
  },
  "language_info": {
   "codemirror_mode": {
    "name": "ipython",
    "version": 3
   },
   "file_extension": ".py",
   "mimetype": "text/x-python",
   "name": "python",
   "nbconvert_exporter": "python",
   "pygments_lexer": "ipython3",
   "version": "3.7.3"
  }
 },
 "nbformat": 4,
 "nbformat_minor": 2
}
